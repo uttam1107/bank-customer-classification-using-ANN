{
 "cells": [
  {
   "cell_type": "code",
   "execution_count": null,
   "id": "007c39e9",
   "metadata": {},
   "outputs": [],
   "source": [
    "#to find find bank customer will leave the bank or not using ANN"
   ]
  },
  {
   "cell_type": "code",
   "execution_count": 1,
   "id": "d27672d3",
   "metadata": {},
   "outputs": [],
   "source": [
    "#importing libraries"
   ]
  },
  {
   "cell_type": "code",
   "execution_count": 5,
   "id": "996ab4ea",
   "metadata": {},
   "outputs": [],
   "source": [
    "import numpy as np\n",
    "import matplotlib.pyplot as plt\n",
    "import pandas as pd\n",
    "import tensorflow as tf"
   ]
  },
  {
   "cell_type": "code",
   "execution_count": 8,
   "id": "23aa1199",
   "metadata": {},
   "outputs": [
    {
     "name": "stdout",
     "output_type": "stream",
     "text": [
      "2.3.0\n"
     ]
    }
   ],
   "source": [
    "print(tf.__version__)"
   ]
  },
  {
   "cell_type": "code",
   "execution_count": 10,
   "id": "64209b69",
   "metadata": {},
   "outputs": [],
   "source": [
    "#load dataset\n",
    "dataset = pd.read_csv('Churn_Modelling.csv')"
   ]
  },
  {
   "cell_type": "code",
   "execution_count": 12,
   "id": "dd81df82",
   "metadata": {},
   "outputs": [
    {
     "data": {
      "text/html": [
       "<div>\n",
       "<style scoped>\n",
       "    .dataframe tbody tr th:only-of-type {\n",
       "        vertical-align: middle;\n",
       "    }\n",
       "\n",
       "    .dataframe tbody tr th {\n",
       "        vertical-align: top;\n",
       "    }\n",
       "\n",
       "    .dataframe thead th {\n",
       "        text-align: right;\n",
       "    }\n",
       "</style>\n",
       "<table border=\"1\" class=\"dataframe\">\n",
       "  <thead>\n",
       "    <tr style=\"text-align: right;\">\n",
       "      <th></th>\n",
       "      <th>RowNumber</th>\n",
       "      <th>CustomerId</th>\n",
       "      <th>Surname</th>\n",
       "      <th>CreditScore</th>\n",
       "      <th>Geography</th>\n",
       "      <th>Gender</th>\n",
       "      <th>Age</th>\n",
       "      <th>Tenure</th>\n",
       "      <th>Balance</th>\n",
       "      <th>NumOfProducts</th>\n",
       "      <th>HasCrCard</th>\n",
       "      <th>IsActiveMember</th>\n",
       "      <th>EstimatedSalary</th>\n",
       "      <th>Exited</th>\n",
       "    </tr>\n",
       "  </thead>\n",
       "  <tbody>\n",
       "    <tr>\n",
       "      <th>0</th>\n",
       "      <td>1</td>\n",
       "      <td>15634602</td>\n",
       "      <td>Hargrave</td>\n",
       "      <td>619</td>\n",
       "      <td>France</td>\n",
       "      <td>Female</td>\n",
       "      <td>42</td>\n",
       "      <td>2</td>\n",
       "      <td>0.00</td>\n",
       "      <td>1</td>\n",
       "      <td>1</td>\n",
       "      <td>1</td>\n",
       "      <td>101348.88</td>\n",
       "      <td>1</td>\n",
       "    </tr>\n",
       "    <tr>\n",
       "      <th>1</th>\n",
       "      <td>2</td>\n",
       "      <td>15647311</td>\n",
       "      <td>Hill</td>\n",
       "      <td>608</td>\n",
       "      <td>Spain</td>\n",
       "      <td>Female</td>\n",
       "      <td>41</td>\n",
       "      <td>1</td>\n",
       "      <td>83807.86</td>\n",
       "      <td>1</td>\n",
       "      <td>0</td>\n",
       "      <td>1</td>\n",
       "      <td>112542.58</td>\n",
       "      <td>0</td>\n",
       "    </tr>\n",
       "    <tr>\n",
       "      <th>2</th>\n",
       "      <td>3</td>\n",
       "      <td>15619304</td>\n",
       "      <td>Onio</td>\n",
       "      <td>502</td>\n",
       "      <td>France</td>\n",
       "      <td>Female</td>\n",
       "      <td>42</td>\n",
       "      <td>8</td>\n",
       "      <td>159660.80</td>\n",
       "      <td>3</td>\n",
       "      <td>1</td>\n",
       "      <td>0</td>\n",
       "      <td>113931.57</td>\n",
       "      <td>1</td>\n",
       "    </tr>\n",
       "    <tr>\n",
       "      <th>3</th>\n",
       "      <td>4</td>\n",
       "      <td>15701354</td>\n",
       "      <td>Boni</td>\n",
       "      <td>699</td>\n",
       "      <td>France</td>\n",
       "      <td>Female</td>\n",
       "      <td>39</td>\n",
       "      <td>1</td>\n",
       "      <td>0.00</td>\n",
       "      <td>2</td>\n",
       "      <td>0</td>\n",
       "      <td>0</td>\n",
       "      <td>93826.63</td>\n",
       "      <td>0</td>\n",
       "    </tr>\n",
       "    <tr>\n",
       "      <th>4</th>\n",
       "      <td>5</td>\n",
       "      <td>15737888</td>\n",
       "      <td>Mitchell</td>\n",
       "      <td>850</td>\n",
       "      <td>Spain</td>\n",
       "      <td>Female</td>\n",
       "      <td>43</td>\n",
       "      <td>2</td>\n",
       "      <td>125510.82</td>\n",
       "      <td>1</td>\n",
       "      <td>1</td>\n",
       "      <td>1</td>\n",
       "      <td>79084.10</td>\n",
       "      <td>0</td>\n",
       "    </tr>\n",
       "    <tr>\n",
       "      <th>...</th>\n",
       "      <td>...</td>\n",
       "      <td>...</td>\n",
       "      <td>...</td>\n",
       "      <td>...</td>\n",
       "      <td>...</td>\n",
       "      <td>...</td>\n",
       "      <td>...</td>\n",
       "      <td>...</td>\n",
       "      <td>...</td>\n",
       "      <td>...</td>\n",
       "      <td>...</td>\n",
       "      <td>...</td>\n",
       "      <td>...</td>\n",
       "      <td>...</td>\n",
       "    </tr>\n",
       "    <tr>\n",
       "      <th>9995</th>\n",
       "      <td>9996</td>\n",
       "      <td>15606229</td>\n",
       "      <td>Obijiaku</td>\n",
       "      <td>771</td>\n",
       "      <td>France</td>\n",
       "      <td>Male</td>\n",
       "      <td>39</td>\n",
       "      <td>5</td>\n",
       "      <td>0.00</td>\n",
       "      <td>2</td>\n",
       "      <td>1</td>\n",
       "      <td>0</td>\n",
       "      <td>96270.64</td>\n",
       "      <td>0</td>\n",
       "    </tr>\n",
       "    <tr>\n",
       "      <th>9996</th>\n",
       "      <td>9997</td>\n",
       "      <td>15569892</td>\n",
       "      <td>Johnstone</td>\n",
       "      <td>516</td>\n",
       "      <td>France</td>\n",
       "      <td>Male</td>\n",
       "      <td>35</td>\n",
       "      <td>10</td>\n",
       "      <td>57369.61</td>\n",
       "      <td>1</td>\n",
       "      <td>1</td>\n",
       "      <td>1</td>\n",
       "      <td>101699.77</td>\n",
       "      <td>0</td>\n",
       "    </tr>\n",
       "    <tr>\n",
       "      <th>9997</th>\n",
       "      <td>9998</td>\n",
       "      <td>15584532</td>\n",
       "      <td>Liu</td>\n",
       "      <td>709</td>\n",
       "      <td>France</td>\n",
       "      <td>Female</td>\n",
       "      <td>36</td>\n",
       "      <td>7</td>\n",
       "      <td>0.00</td>\n",
       "      <td>1</td>\n",
       "      <td>0</td>\n",
       "      <td>1</td>\n",
       "      <td>42085.58</td>\n",
       "      <td>1</td>\n",
       "    </tr>\n",
       "    <tr>\n",
       "      <th>9998</th>\n",
       "      <td>9999</td>\n",
       "      <td>15682355</td>\n",
       "      <td>Sabbatini</td>\n",
       "      <td>772</td>\n",
       "      <td>Germany</td>\n",
       "      <td>Male</td>\n",
       "      <td>42</td>\n",
       "      <td>3</td>\n",
       "      <td>75075.31</td>\n",
       "      <td>2</td>\n",
       "      <td>1</td>\n",
       "      <td>0</td>\n",
       "      <td>92888.52</td>\n",
       "      <td>1</td>\n",
       "    </tr>\n",
       "    <tr>\n",
       "      <th>9999</th>\n",
       "      <td>10000</td>\n",
       "      <td>15628319</td>\n",
       "      <td>Walker</td>\n",
       "      <td>792</td>\n",
       "      <td>France</td>\n",
       "      <td>Female</td>\n",
       "      <td>28</td>\n",
       "      <td>4</td>\n",
       "      <td>130142.79</td>\n",
       "      <td>1</td>\n",
       "      <td>1</td>\n",
       "      <td>0</td>\n",
       "      <td>38190.78</td>\n",
       "      <td>0</td>\n",
       "    </tr>\n",
       "  </tbody>\n",
       "</table>\n",
       "<p>10000 rows × 14 columns</p>\n",
       "</div>"
      ],
      "text/plain": [
       "      RowNumber  CustomerId    Surname  CreditScore Geography  Gender  Age  \\\n",
       "0             1    15634602   Hargrave          619    France  Female   42   \n",
       "1             2    15647311       Hill          608     Spain  Female   41   \n",
       "2             3    15619304       Onio          502    France  Female   42   \n",
       "3             4    15701354       Boni          699    France  Female   39   \n",
       "4             5    15737888   Mitchell          850     Spain  Female   43   \n",
       "...         ...         ...        ...          ...       ...     ...  ...   \n",
       "9995       9996    15606229   Obijiaku          771    France    Male   39   \n",
       "9996       9997    15569892  Johnstone          516    France    Male   35   \n",
       "9997       9998    15584532        Liu          709    France  Female   36   \n",
       "9998       9999    15682355  Sabbatini          772   Germany    Male   42   \n",
       "9999      10000    15628319     Walker          792    France  Female   28   \n",
       "\n",
       "      Tenure    Balance  NumOfProducts  HasCrCard  IsActiveMember  \\\n",
       "0          2       0.00              1          1               1   \n",
       "1          1   83807.86              1          0               1   \n",
       "2          8  159660.80              3          1               0   \n",
       "3          1       0.00              2          0               0   \n",
       "4          2  125510.82              1          1               1   \n",
       "...      ...        ...            ...        ...             ...   \n",
       "9995       5       0.00              2          1               0   \n",
       "9996      10   57369.61              1          1               1   \n",
       "9997       7       0.00              1          0               1   \n",
       "9998       3   75075.31              2          1               0   \n",
       "9999       4  130142.79              1          1               0   \n",
       "\n",
       "      EstimatedSalary  Exited  \n",
       "0           101348.88       1  \n",
       "1           112542.58       0  \n",
       "2           113931.57       1  \n",
       "3            93826.63       0  \n",
       "4            79084.10       0  \n",
       "...               ...     ...  \n",
       "9995         96270.64       0  \n",
       "9996        101699.77       0  \n",
       "9997         42085.58       1  \n",
       "9998         92888.52       1  \n",
       "9999         38190.78       0  \n",
       "\n",
       "[10000 rows x 14 columns]"
      ]
     },
     "execution_count": 12,
     "metadata": {},
     "output_type": "execute_result"
    }
   ],
   "source": [
    "dataset"
   ]
  },
  {
   "cell_type": "code",
   "execution_count": 16,
   "id": "90ada88c",
   "metadata": {},
   "outputs": [
    {
     "data": {
      "text/html": [
       "<div>\n",
       "<style scoped>\n",
       "    .dataframe tbody tr th:only-of-type {\n",
       "        vertical-align: middle;\n",
       "    }\n",
       "\n",
       "    .dataframe tbody tr th {\n",
       "        vertical-align: top;\n",
       "    }\n",
       "\n",
       "    .dataframe thead th {\n",
       "        text-align: right;\n",
       "    }\n",
       "</style>\n",
       "<table border=\"1\" class=\"dataframe\">\n",
       "  <thead>\n",
       "    <tr style=\"text-align: right;\">\n",
       "      <th></th>\n",
       "      <th>RowNumber</th>\n",
       "      <th>CustomerId</th>\n",
       "      <th>CreditScore</th>\n",
       "      <th>Age</th>\n",
       "      <th>Tenure</th>\n",
       "      <th>Balance</th>\n",
       "      <th>NumOfProducts</th>\n",
       "      <th>HasCrCard</th>\n",
       "      <th>IsActiveMember</th>\n",
       "      <th>EstimatedSalary</th>\n",
       "      <th>Exited</th>\n",
       "    </tr>\n",
       "  </thead>\n",
       "  <tbody>\n",
       "    <tr>\n",
       "      <th>count</th>\n",
       "      <td>10000.00000</td>\n",
       "      <td>1.000000e+04</td>\n",
       "      <td>10000.000000</td>\n",
       "      <td>10000.000000</td>\n",
       "      <td>10000.000000</td>\n",
       "      <td>10000.000000</td>\n",
       "      <td>10000.000000</td>\n",
       "      <td>10000.00000</td>\n",
       "      <td>10000.000000</td>\n",
       "      <td>10000.000000</td>\n",
       "      <td>10000.000000</td>\n",
       "    </tr>\n",
       "    <tr>\n",
       "      <th>mean</th>\n",
       "      <td>5000.50000</td>\n",
       "      <td>1.569094e+07</td>\n",
       "      <td>650.528800</td>\n",
       "      <td>38.921800</td>\n",
       "      <td>5.012800</td>\n",
       "      <td>76485.889288</td>\n",
       "      <td>1.530200</td>\n",
       "      <td>0.70550</td>\n",
       "      <td>0.515100</td>\n",
       "      <td>100090.239881</td>\n",
       "      <td>0.203700</td>\n",
       "    </tr>\n",
       "    <tr>\n",
       "      <th>std</th>\n",
       "      <td>2886.89568</td>\n",
       "      <td>7.193619e+04</td>\n",
       "      <td>96.653299</td>\n",
       "      <td>10.487806</td>\n",
       "      <td>2.892174</td>\n",
       "      <td>62397.405202</td>\n",
       "      <td>0.581654</td>\n",
       "      <td>0.45584</td>\n",
       "      <td>0.499797</td>\n",
       "      <td>57510.492818</td>\n",
       "      <td>0.402769</td>\n",
       "    </tr>\n",
       "    <tr>\n",
       "      <th>min</th>\n",
       "      <td>1.00000</td>\n",
       "      <td>1.556570e+07</td>\n",
       "      <td>350.000000</td>\n",
       "      <td>18.000000</td>\n",
       "      <td>0.000000</td>\n",
       "      <td>0.000000</td>\n",
       "      <td>1.000000</td>\n",
       "      <td>0.00000</td>\n",
       "      <td>0.000000</td>\n",
       "      <td>11.580000</td>\n",
       "      <td>0.000000</td>\n",
       "    </tr>\n",
       "    <tr>\n",
       "      <th>25%</th>\n",
       "      <td>2500.75000</td>\n",
       "      <td>1.562853e+07</td>\n",
       "      <td>584.000000</td>\n",
       "      <td>32.000000</td>\n",
       "      <td>3.000000</td>\n",
       "      <td>0.000000</td>\n",
       "      <td>1.000000</td>\n",
       "      <td>0.00000</td>\n",
       "      <td>0.000000</td>\n",
       "      <td>51002.110000</td>\n",
       "      <td>0.000000</td>\n",
       "    </tr>\n",
       "    <tr>\n",
       "      <th>50%</th>\n",
       "      <td>5000.50000</td>\n",
       "      <td>1.569074e+07</td>\n",
       "      <td>652.000000</td>\n",
       "      <td>37.000000</td>\n",
       "      <td>5.000000</td>\n",
       "      <td>97198.540000</td>\n",
       "      <td>1.000000</td>\n",
       "      <td>1.00000</td>\n",
       "      <td>1.000000</td>\n",
       "      <td>100193.915000</td>\n",
       "      <td>0.000000</td>\n",
       "    </tr>\n",
       "    <tr>\n",
       "      <th>75%</th>\n",
       "      <td>7500.25000</td>\n",
       "      <td>1.575323e+07</td>\n",
       "      <td>718.000000</td>\n",
       "      <td>44.000000</td>\n",
       "      <td>7.000000</td>\n",
       "      <td>127644.240000</td>\n",
       "      <td>2.000000</td>\n",
       "      <td>1.00000</td>\n",
       "      <td>1.000000</td>\n",
       "      <td>149388.247500</td>\n",
       "      <td>0.000000</td>\n",
       "    </tr>\n",
       "    <tr>\n",
       "      <th>max</th>\n",
       "      <td>10000.00000</td>\n",
       "      <td>1.581569e+07</td>\n",
       "      <td>850.000000</td>\n",
       "      <td>92.000000</td>\n",
       "      <td>10.000000</td>\n",
       "      <td>250898.090000</td>\n",
       "      <td>4.000000</td>\n",
       "      <td>1.00000</td>\n",
       "      <td>1.000000</td>\n",
       "      <td>199992.480000</td>\n",
       "      <td>1.000000</td>\n",
       "    </tr>\n",
       "  </tbody>\n",
       "</table>\n",
       "</div>"
      ],
      "text/plain": [
       "         RowNumber    CustomerId   CreditScore           Age        Tenure  \\\n",
       "count  10000.00000  1.000000e+04  10000.000000  10000.000000  10000.000000   \n",
       "mean    5000.50000  1.569094e+07    650.528800     38.921800      5.012800   \n",
       "std     2886.89568  7.193619e+04     96.653299     10.487806      2.892174   \n",
       "min        1.00000  1.556570e+07    350.000000     18.000000      0.000000   \n",
       "25%     2500.75000  1.562853e+07    584.000000     32.000000      3.000000   \n",
       "50%     5000.50000  1.569074e+07    652.000000     37.000000      5.000000   \n",
       "75%     7500.25000  1.575323e+07    718.000000     44.000000      7.000000   \n",
       "max    10000.00000  1.581569e+07    850.000000     92.000000     10.000000   \n",
       "\n",
       "             Balance  NumOfProducts    HasCrCard  IsActiveMember  \\\n",
       "count   10000.000000   10000.000000  10000.00000    10000.000000   \n",
       "mean    76485.889288       1.530200      0.70550        0.515100   \n",
       "std     62397.405202       0.581654      0.45584        0.499797   \n",
       "min         0.000000       1.000000      0.00000        0.000000   \n",
       "25%         0.000000       1.000000      0.00000        0.000000   \n",
       "50%     97198.540000       1.000000      1.00000        1.000000   \n",
       "75%    127644.240000       2.000000      1.00000        1.000000   \n",
       "max    250898.090000       4.000000      1.00000        1.000000   \n",
       "\n",
       "       EstimatedSalary        Exited  \n",
       "count     10000.000000  10000.000000  \n",
       "mean     100090.239881      0.203700  \n",
       "std       57510.492818      0.402769  \n",
       "min          11.580000      0.000000  \n",
       "25%       51002.110000      0.000000  \n",
       "50%      100193.915000      0.000000  \n",
       "75%      149388.247500      0.000000  \n",
       "max      199992.480000      1.000000  "
      ]
     },
     "execution_count": 16,
     "metadata": {},
     "output_type": "execute_result"
    }
   ],
   "source": [
    "dataset.describe()"
   ]
  },
  {
   "cell_type": "code",
   "execution_count": null,
   "id": "fb433919",
   "metadata": {},
   "outputs": [],
   "source": []
  },
  {
   "cell_type": "code",
   "execution_count": 19,
   "id": "2f173b6a",
   "metadata": {},
   "outputs": [
    {
     "data": {
      "text/html": [
       "<div>\n",
       "<style scoped>\n",
       "    .dataframe tbody tr th:only-of-type {\n",
       "        vertical-align: middle;\n",
       "    }\n",
       "\n",
       "    .dataframe tbody tr th {\n",
       "        vertical-align: top;\n",
       "    }\n",
       "\n",
       "    .dataframe thead th {\n",
       "        text-align: right;\n",
       "    }\n",
       "</style>\n",
       "<table border=\"1\" class=\"dataframe\">\n",
       "  <thead>\n",
       "    <tr style=\"text-align: right;\">\n",
       "      <th></th>\n",
       "      <th>RowNumber</th>\n",
       "      <th>CustomerId</th>\n",
       "      <th>Surname</th>\n",
       "      <th>CreditScore</th>\n",
       "      <th>Geography</th>\n",
       "      <th>Gender</th>\n",
       "      <th>Age</th>\n",
       "      <th>Tenure</th>\n",
       "      <th>Balance</th>\n",
       "      <th>NumOfProducts</th>\n",
       "      <th>HasCrCard</th>\n",
       "      <th>IsActiveMember</th>\n",
       "      <th>EstimatedSalary</th>\n",
       "      <th>Exited</th>\n",
       "    </tr>\n",
       "  </thead>\n",
       "  <tbody>\n",
       "    <tr>\n",
       "      <th>0</th>\n",
       "      <td>1</td>\n",
       "      <td>15634602</td>\n",
       "      <td>Hargrave</td>\n",
       "      <td>619</td>\n",
       "      <td>France</td>\n",
       "      <td>Female</td>\n",
       "      <td>42</td>\n",
       "      <td>2</td>\n",
       "      <td>0.00</td>\n",
       "      <td>1</td>\n",
       "      <td>1</td>\n",
       "      <td>1</td>\n",
       "      <td>101348.88</td>\n",
       "      <td>1</td>\n",
       "    </tr>\n",
       "    <tr>\n",
       "      <th>1</th>\n",
       "      <td>2</td>\n",
       "      <td>15647311</td>\n",
       "      <td>Hill</td>\n",
       "      <td>608</td>\n",
       "      <td>Spain</td>\n",
       "      <td>Female</td>\n",
       "      <td>41</td>\n",
       "      <td>1</td>\n",
       "      <td>83807.86</td>\n",
       "      <td>1</td>\n",
       "      <td>0</td>\n",
       "      <td>1</td>\n",
       "      <td>112542.58</td>\n",
       "      <td>0</td>\n",
       "    </tr>\n",
       "    <tr>\n",
       "      <th>2</th>\n",
       "      <td>3</td>\n",
       "      <td>15619304</td>\n",
       "      <td>Onio</td>\n",
       "      <td>502</td>\n",
       "      <td>France</td>\n",
       "      <td>Female</td>\n",
       "      <td>42</td>\n",
       "      <td>8</td>\n",
       "      <td>159660.80</td>\n",
       "      <td>3</td>\n",
       "      <td>1</td>\n",
       "      <td>0</td>\n",
       "      <td>113931.57</td>\n",
       "      <td>1</td>\n",
       "    </tr>\n",
       "    <tr>\n",
       "      <th>3</th>\n",
       "      <td>4</td>\n",
       "      <td>15701354</td>\n",
       "      <td>Boni</td>\n",
       "      <td>699</td>\n",
       "      <td>France</td>\n",
       "      <td>Female</td>\n",
       "      <td>39</td>\n",
       "      <td>1</td>\n",
       "      <td>0.00</td>\n",
       "      <td>2</td>\n",
       "      <td>0</td>\n",
       "      <td>0</td>\n",
       "      <td>93826.63</td>\n",
       "      <td>0</td>\n",
       "    </tr>\n",
       "    <tr>\n",
       "      <th>4</th>\n",
       "      <td>5</td>\n",
       "      <td>15737888</td>\n",
       "      <td>Mitchell</td>\n",
       "      <td>850</td>\n",
       "      <td>Spain</td>\n",
       "      <td>Female</td>\n",
       "      <td>43</td>\n",
       "      <td>2</td>\n",
       "      <td>125510.82</td>\n",
       "      <td>1</td>\n",
       "      <td>1</td>\n",
       "      <td>1</td>\n",
       "      <td>79084.10</td>\n",
       "      <td>0</td>\n",
       "    </tr>\n",
       "  </tbody>\n",
       "</table>\n",
       "</div>"
      ],
      "text/plain": [
       "   RowNumber  CustomerId   Surname  CreditScore Geography  Gender  Age  \\\n",
       "0          1    15634602  Hargrave          619    France  Female   42   \n",
       "1          2    15647311      Hill          608     Spain  Female   41   \n",
       "2          3    15619304      Onio          502    France  Female   42   \n",
       "3          4    15701354      Boni          699    France  Female   39   \n",
       "4          5    15737888  Mitchell          850     Spain  Female   43   \n",
       "\n",
       "   Tenure    Balance  NumOfProducts  HasCrCard  IsActiveMember  \\\n",
       "0       2       0.00              1          1               1   \n",
       "1       1   83807.86              1          0               1   \n",
       "2       8  159660.80              3          1               0   \n",
       "3       1       0.00              2          0               0   \n",
       "4       2  125510.82              1          1               1   \n",
       "\n",
       "   EstimatedSalary  Exited  \n",
       "0        101348.88       1  \n",
       "1        112542.58       0  \n",
       "2        113931.57       1  \n",
       "3         93826.63       0  \n",
       "4         79084.10       0  "
      ]
     },
     "execution_count": 19,
     "metadata": {},
     "output_type": "execute_result"
    }
   ],
   "source": [
    "dataset.head()"
   ]
  },
  {
   "cell_type": "code",
   "execution_count": 20,
   "id": "4d2603e4",
   "metadata": {},
   "outputs": [
    {
     "data": {
      "text/plain": [
       "'datapre processing tobe done on dataset\\nwe can clearly visualize column 1,2,3,13 has no contribution ,so we will focus only on rest\\nof the columns'"
      ]
     },
     "execution_count": 20,
     "metadata": {},
     "output_type": "execute_result"
    }
   ],
   "source": [
    "'''datapre processing tobe done on dataset\n",
    "we can clearly visualize column 1,2,3,13 has no contribution ,so we will focus only on rest\n",
    "of the columns'''\n",
    "\n"
   ]
  },
  {
   "cell_type": "code",
   "execution_count": 59,
   "id": "9510e2ca",
   "metadata": {},
   "outputs": [],
   "source": [
    "x = dataset.iloc[:, 3:-1].values\n",
    "y = dataset.iloc[:, -1].values"
   ]
  },
  {
   "cell_type": "code",
   "execution_count": 60,
   "id": "81132a12",
   "metadata": {},
   "outputs": [
    {
     "name": "stdout",
     "output_type": "stream",
     "text": [
      "[[619 'France' 'Female' ... 1 1 101348.88]\n",
      " [608 'Spain' 'Female' ... 0 1 112542.58]\n",
      " [502 'France' 'Female' ... 1 0 113931.57]\n",
      " ...\n",
      " [709 'France' 'Female' ... 0 1 42085.58]\n",
      " [772 'Germany' 'Male' ... 1 0 92888.52]\n",
      " [792 'France' 'Female' ... 1 0 38190.78]]\n"
     ]
    }
   ],
   "source": [
    "print(x)"
   ]
  },
  {
   "cell_type": "code",
   "execution_count": 61,
   "id": "cbed25b6",
   "metadata": {},
   "outputs": [
    {
     "name": "stdout",
     "output_type": "stream",
     "text": [
      "[1 0 1 ... 1 1 0]\n"
     ]
    }
   ],
   "source": [
    "print(y)"
   ]
  },
  {
   "cell_type": "code",
   "execution_count": 62,
   "id": "57337222",
   "metadata": {},
   "outputs": [],
   "source": [
    "#Taking care of missing data\n",
    "\n",
    "from sklearn.impute import SimpleImputer\n",
    "imputer = SimpleImputer(missing_values=np.nan, strategy='mean')\n",
    "imputer.fit(x[:, 6:13])\n",
    "x[:, 6:13] = imputer.transform(x[:, 6:13])"
   ]
  },
  {
   "cell_type": "code",
   "execution_count": 63,
   "id": "d2badc5c",
   "metadata": {},
   "outputs": [],
   "source": [
    "# Encoding the dependent Variable (gender)"
   ]
  },
  {
   "cell_type": "code",
   "execution_count": 64,
   "id": "7b3f9e61",
   "metadata": {},
   "outputs": [],
   "source": [
    "from sklearn.preprocessing import LabelEncoder\n",
    "le = LabelEncoder()\n",
    "x[:,2] = le.fit_transform(x[:,2])"
   ]
  },
  {
   "cell_type": "code",
   "execution_count": 65,
   "id": "fda1d22f",
   "metadata": {},
   "outputs": [
    {
     "name": "stdout",
     "output_type": "stream",
     "text": [
      "[[619 'France' 0 ... 1.0 1.0 101348.88]\n",
      " [608 'Spain' 0 ... 0.0 1.0 112542.58]\n",
      " [502 'France' 0 ... 1.0 0.0 113931.57]\n",
      " ...\n",
      " [709 'France' 0 ... 0.0 1.0 42085.58]\n",
      " [772 'Germany' 1 ... 1.0 0.0 92888.52]\n",
      " [792 'France' 0 ... 1.0 0.0 38190.78]]\n"
     ]
    }
   ],
   "source": [
    "# female encoded to 0 and male to 1\n",
    "print(x)"
   ]
  },
  {
   "cell_type": "code",
   "execution_count": 66,
   "id": "49e96a37",
   "metadata": {},
   "outputs": [],
   "source": [
    "#one hot encoding in geography colomun (independent variable)"
   ]
  },
  {
   "cell_type": "code",
   "execution_count": 67,
   "id": "0574b768",
   "metadata": {},
   "outputs": [],
   "source": [
    "from sklearn.compose import ColumnTransformer\n",
    "from sklearn.preprocessing import OneHotEncoder\n",
    "ct = ColumnTransformer(transformers=[('encoder', OneHotEncoder(), [1])], remainder='passthrough')\n",
    "x = np.array(ct.fit_transform(x))"
   ]
  },
  {
   "cell_type": "code",
   "execution_count": 68,
   "id": "e9de13a4",
   "metadata": {},
   "outputs": [
    {
     "name": "stdout",
     "output_type": "stream",
     "text": [
      "[[1.0 0.0 0.0 ... 1.0 1.0 101348.88]\n",
      " [0.0 0.0 1.0 ... 0.0 1.0 112542.58]\n",
      " [1.0 0.0 0.0 ... 1.0 0.0 113931.57]\n",
      " ...\n",
      " [1.0 0.0 0.0 ... 0.0 1.0 42085.58]\n",
      " [0.0 1.0 0.0 ... 1.0 0.0 92888.52]\n",
      " [1.0 0.0 0.0 ... 1.0 0.0 38190.78]]\n"
     ]
    }
   ],
   "source": [
    "print(x)"
   ]
  },
  {
   "cell_type": "code",
   "execution_count": 69,
   "id": "4ac73b5c",
   "metadata": {},
   "outputs": [],
   "source": [
    "#split train and test"
   ]
  },
  {
   "cell_type": "code",
   "execution_count": 70,
   "id": "9033232e",
   "metadata": {},
   "outputs": [],
   "source": [
    "from sklearn.model_selection import train_test_split\n",
    "X_train, X_test, y_train, y_test = train_test_split(x, y, test_size = 0.2, random_state = 0)"
   ]
  },
  {
   "cell_type": "code",
   "execution_count": 71,
   "id": "f7179bc7",
   "metadata": {},
   "outputs": [],
   "source": [
    "#feature scaling(compulsary in deep learning)"
   ]
  },
  {
   "cell_type": "code",
   "execution_count": 72,
   "id": "ee3b342d",
   "metadata": {},
   "outputs": [],
   "source": [
    "from sklearn.preprocessing import StandardScaler\n",
    "sc = StandardScaler()\n",
    "X_train = sc.fit_transform(X_train)\n",
    "X_test = sc.transform(X_test)"
   ]
  },
  {
   "cell_type": "code",
   "execution_count": 73,
   "id": "b2d0cfec",
   "metadata": {},
   "outputs": [],
   "source": [
    "#part2 buid ANN model"
   ]
  },
  {
   "cell_type": "code",
   "execution_count": 74,
   "id": "ad86e3bf",
   "metadata": {},
   "outputs": [],
   "source": [
    "#initaize ann"
   ]
  },
  {
   "cell_type": "code",
   "execution_count": 75,
   "id": "2569aaa8",
   "metadata": {},
   "outputs": [],
   "source": [
    "ann=tf.keras.models.Sequential()"
   ]
  },
  {
   "cell_type": "code",
   "execution_count": 76,
   "id": "0b6a61c3",
   "metadata": {},
   "outputs": [],
   "source": [
    "#ADDING i/p and 1st layers"
   ]
  },
  {
   "cell_type": "code",
   "execution_count": 77,
   "id": "efb39863",
   "metadata": {},
   "outputs": [],
   "source": [
    "ann.add(tf.keras.layers.Dense(units=6,activation=\"relu\"))"
   ]
  },
  {
   "cell_type": "code",
   "execution_count": 78,
   "id": "14b35891",
   "metadata": {},
   "outputs": [],
   "source": [
    "#adding 2nd hidden layers"
   ]
  },
  {
   "cell_type": "code",
   "execution_count": 79,
   "id": "418e0d3f",
   "metadata": {},
   "outputs": [],
   "source": [
    "ann.add(tf.keras.layers.Dense(units=6,activation=\"relu\"))"
   ]
  },
  {
   "cell_type": "code",
   "execution_count": 80,
   "id": "3bd31cf5",
   "metadata": {},
   "outputs": [],
   "source": [
    "#adding O/P layer"
   ]
  },
  {
   "cell_type": "code",
   "execution_count": 81,
   "id": "6461807e",
   "metadata": {},
   "outputs": [],
   "source": [
    "#ann.add(tf.keras.layers.Dense(units=1,activation=\"softmax\")) for non-binary classification\n",
    "ann.add(tf.keras.layers.Dense(units=1,activation=\"sigmoid\"))"
   ]
  },
  {
   "cell_type": "code",
   "execution_count": 82,
   "id": "be15ed8f",
   "metadata": {},
   "outputs": [],
   "source": [
    "#part3 training ann"
   ]
  },
  {
   "cell_type": "code",
   "execution_count": 83,
   "id": "d71f142a",
   "metadata": {},
   "outputs": [],
   "source": [
    "#compile ann"
   ]
  },
  {
   "cell_type": "code",
   "execution_count": 84,
   "id": "1bcef740",
   "metadata": {},
   "outputs": [],
   "source": [
    "#ann.compile(optimizer='adam',loss='category_crossentropy',metrics=['accuracy'] for non-binary classifiacation problems)\n",
    "#adam is used to run stochastic gradient descent\n",
    "ann.compile(optimizer='adam',loss='binary_crossentropy',metrics=['accuracy'])"
   ]
  },
  {
   "cell_type": "code",
   "execution_count": 85,
   "id": "b4d3f514",
   "metadata": {},
   "outputs": [],
   "source": [
    "#training ann on training set"
   ]
  },
  {
   "cell_type": "code",
   "execution_count": 86,
   "id": "77531802",
   "metadata": {},
   "outputs": [
    {
     "name": "stdout",
     "output_type": "stream",
     "text": [
      "Epoch 1/100\n",
      "250/250 [==============================] - 0s 1ms/step - loss: 0.6826 - accuracy: 0.6277\n",
      "Epoch 2/100\n",
      "250/250 [==============================] - 0s 519us/step - loss: 0.5360 - accuracy: 0.7960\n",
      "Epoch 3/100\n",
      "250/250 [==============================] - 0s 534us/step - loss: 0.4562 - accuracy: 0.7960\n",
      "Epoch 4/100\n",
      "250/250 [==============================] - 0s 496us/step - loss: 0.4354 - accuracy: 0.7995\n",
      "Epoch 5/100\n",
      "250/250 [==============================] - 0s 521us/step - loss: 0.4246 - accuracy: 0.8089\n",
      "Epoch 6/100\n",
      "250/250 [==============================] - 0s 486us/step - loss: 0.4182 - accuracy: 0.8164\n",
      "Epoch 7/100\n",
      "250/250 [==============================] - 0s 496us/step - loss: 0.4107 - accuracy: 0.8200\n",
      "Epoch 8/100\n",
      "250/250 [==============================] - 0s 510us/step - loss: 0.3999 - accuracy: 0.8275\n",
      "Epoch 9/100\n",
      "250/250 [==============================] - 0s 499us/step - loss: 0.3849 - accuracy: 0.8404\n",
      "Epoch 10/100\n",
      "250/250 [==============================] - 0s 539us/step - loss: 0.3721 - accuracy: 0.8471\n",
      "Epoch 11/100\n",
      "250/250 [==============================] - 0s 518us/step - loss: 0.3640 - accuracy: 0.8501\n",
      "Epoch 12/100\n",
      "250/250 [==============================] - 0s 494us/step - loss: 0.3594 - accuracy: 0.8520\n",
      "Epoch 13/100\n",
      "250/250 [==============================] - 0s 513us/step - loss: 0.3562 - accuracy: 0.8521\n",
      "Epoch 14/100\n",
      "250/250 [==============================] - 0s 525us/step - loss: 0.3541 - accuracy: 0.8516\n",
      "Epoch 15/100\n",
      "250/250 [==============================] - 0s 626us/step - loss: 0.3522 - accuracy: 0.8519\n",
      "Epoch 16/100\n",
      "250/250 [==============================] - 0s 542us/step - loss: 0.3508 - accuracy: 0.8531\n",
      "Epoch 17/100\n",
      "250/250 [==============================] - 0s 561us/step - loss: 0.3496 - accuracy: 0.8526\n",
      "Epoch 18/100\n",
      "250/250 [==============================] - 0s 537us/step - loss: 0.3482 - accuracy: 0.8533\n",
      "Epoch 19/100\n",
      "250/250 [==============================] - 0s 552us/step - loss: 0.3473 - accuracy: 0.8530\n",
      "Epoch 20/100\n",
      "250/250 [==============================] - 0s 630us/step - loss: 0.3465 - accuracy: 0.8533\n",
      "Epoch 21/100\n",
      "250/250 [==============================] - 0s 577us/step - loss: 0.3461 - accuracy: 0.8539\n",
      "Epoch 22/100\n",
      "250/250 [==============================] - 0s 508us/step - loss: 0.3456 - accuracy: 0.8543\n",
      "Epoch 23/100\n",
      "250/250 [==============================] - 0s 501us/step - loss: 0.3450 - accuracy: 0.8534\n",
      "Epoch 24/100\n",
      "250/250 [==============================] - 0s 576us/step - loss: 0.3445 - accuracy: 0.8545\n",
      "Epoch 25/100\n",
      "250/250 [==============================] - 0s 529us/step - loss: 0.3441 - accuracy: 0.8544\n",
      "Epoch 26/100\n",
      "250/250 [==============================] - 0s 531us/step - loss: 0.3437 - accuracy: 0.8541\n",
      "Epoch 27/100\n",
      "250/250 [==============================] - 0s 521us/step - loss: 0.3437 - accuracy: 0.8551\n",
      "Epoch 28/100\n",
      "250/250 [==============================] - 0s 523us/step - loss: 0.3434 - accuracy: 0.8537\n",
      "Epoch 29/100\n",
      "250/250 [==============================] - 0s 533us/step - loss: 0.3429 - accuracy: 0.8549\n",
      "Epoch 30/100\n",
      "250/250 [==============================] - 0s 516us/step - loss: 0.3428 - accuracy: 0.8537\n",
      "Epoch 31/100\n",
      "250/250 [==============================] - 0s 531us/step - loss: 0.3426 - accuracy: 0.8553\n",
      "Epoch 32/100\n",
      "250/250 [==============================] - 0s 524us/step - loss: 0.3425 - accuracy: 0.8543\n",
      "Epoch 33/100\n",
      "250/250 [==============================] - 0s 507us/step - loss: 0.3419 - accuracy: 0.8558\n",
      "Epoch 34/100\n",
      "250/250 [==============================] - 0s 548us/step - loss: 0.3417 - accuracy: 0.8555\n",
      "Epoch 35/100\n",
      "250/250 [==============================] - 0s 533us/step - loss: 0.3416 - accuracy: 0.8562\n",
      "Epoch 36/100\n",
      "250/250 [==============================] - 0s 588us/step - loss: 0.3413 - accuracy: 0.8558\n",
      "Epoch 37/100\n",
      "250/250 [==============================] - 0s 507us/step - loss: 0.3411 - accuracy: 0.8545\n",
      "Epoch 38/100\n",
      "250/250 [==============================] - 0s 517us/step - loss: 0.3405 - accuracy: 0.8562\n",
      "Epoch 39/100\n",
      "250/250 [==============================] - 0s 584us/step - loss: 0.3406 - accuracy: 0.8569\n",
      "Epoch 40/100\n",
      "250/250 [==============================] - 0s 532us/step - loss: 0.3403 - accuracy: 0.8562\n",
      "Epoch 41/100\n",
      "250/250 [==============================] - 0s 544us/step - loss: 0.3404 - accuracy: 0.8562\n",
      "Epoch 42/100\n",
      "250/250 [==============================] - 0s 508us/step - loss: 0.3397 - accuracy: 0.8569\n",
      "Epoch 43/100\n",
      "250/250 [==============================] - 0s 526us/step - loss: 0.3395 - accuracy: 0.8564\n",
      "Epoch 44/100\n",
      "250/250 [==============================] - 0s 543us/step - loss: 0.3397 - accuracy: 0.8584\n",
      "Epoch 45/100\n",
      "250/250 [==============================] - 0s 525us/step - loss: 0.3393 - accuracy: 0.8572\n",
      "Epoch 46/100\n",
      "250/250 [==============================] - 0s 573us/step - loss: 0.3390 - accuracy: 0.8591\n",
      "Epoch 47/100\n",
      "250/250 [==============================] - 0s 550us/step - loss: 0.3389 - accuracy: 0.8586\n",
      "Epoch 48/100\n",
      "250/250 [==============================] - 0s 557us/step - loss: 0.3390 - accuracy: 0.8586\n",
      "Epoch 49/100\n",
      "250/250 [==============================] - 0s 534us/step - loss: 0.3389 - accuracy: 0.8584\n",
      "Epoch 50/100\n",
      "250/250 [==============================] - 0s 530us/step - loss: 0.3386 - accuracy: 0.8579\n",
      "Epoch 51/100\n",
      "250/250 [==============================] - 0s 533us/step - loss: 0.3384 - accuracy: 0.8584\n",
      "Epoch 52/100\n",
      "250/250 [==============================] - 0s 531us/step - loss: 0.3383 - accuracy: 0.8589\n",
      "Epoch 53/100\n",
      "250/250 [==============================] - 0s 537us/step - loss: 0.3382 - accuracy: 0.8584\n",
      "Epoch 54/100\n",
      "250/250 [==============================] - 0s 559us/step - loss: 0.3379 - accuracy: 0.8583\n",
      "Epoch 55/100\n",
      "250/250 [==============================] - 0s 519us/step - loss: 0.3378 - accuracy: 0.8605\n",
      "Epoch 56/100\n",
      "250/250 [==============================] - 0s 540us/step - loss: 0.3378 - accuracy: 0.8590\n",
      "Epoch 57/100\n",
      "250/250 [==============================] - 0s 521us/step - loss: 0.3375 - accuracy: 0.8596\n",
      "Epoch 58/100\n",
      "250/250 [==============================] - 0s 542us/step - loss: 0.3373 - accuracy: 0.8608\n",
      "Epoch 59/100\n",
      "250/250 [==============================] - 0s 575us/step - loss: 0.3375 - accuracy: 0.8609\n",
      "Epoch 60/100\n",
      "250/250 [==============================] - 0s 663us/step - loss: 0.3373 - accuracy: 0.8590\n",
      "Epoch 61/100\n",
      "250/250 [==============================] - 0s 599us/step - loss: 0.3371 - accuracy: 0.8615\n",
      "Epoch 62/100\n",
      "250/250 [==============================] - 0s 518us/step - loss: 0.3369 - accuracy: 0.8610\n",
      "Epoch 63/100\n",
      "250/250 [==============================] - 0s 569us/step - loss: 0.3368 - accuracy: 0.8618\n",
      "Epoch 64/100\n",
      "250/250 [==============================] - 0s 531us/step - loss: 0.3370 - accuracy: 0.8611\n",
      "Epoch 65/100\n",
      "250/250 [==============================] - 0s 503us/step - loss: 0.3365 - accuracy: 0.8633\n",
      "Epoch 66/100\n",
      "250/250 [==============================] - 0s 531us/step - loss: 0.3369 - accuracy: 0.8612\n",
      "Epoch 67/100\n",
      "250/250 [==============================] - 0s 564us/step - loss: 0.3366 - accuracy: 0.8620\n",
      "Epoch 68/100\n",
      "250/250 [==============================] - 0s 583us/step - loss: 0.3363 - accuracy: 0.8611\n",
      "Epoch 69/100\n",
      "250/250 [==============================] - 0s 517us/step - loss: 0.3364 - accuracy: 0.8618\n",
      "Epoch 70/100\n",
      "250/250 [==============================] - 0s 515us/step - loss: 0.3363 - accuracy: 0.8626\n",
      "Epoch 71/100\n",
      "250/250 [==============================] - 0s 551us/step - loss: 0.3361 - accuracy: 0.8629\n",
      "Epoch 72/100\n",
      "250/250 [==============================] - 0s 578us/step - loss: 0.3359 - accuracy: 0.8605\n",
      "Epoch 73/100\n",
      "250/250 [==============================] - 0s 627us/step - loss: 0.3361 - accuracy: 0.8618\n",
      "Epoch 74/100\n",
      "250/250 [==============================] - 0s 525us/step - loss: 0.3357 - accuracy: 0.8624\n",
      "Epoch 75/100\n",
      "250/250 [==============================] - 0s 552us/step - loss: 0.3363 - accuracy: 0.8626\n",
      "Epoch 76/100\n",
      "250/250 [==============================] - 0s 519us/step - loss: 0.3359 - accuracy: 0.8621\n",
      "Epoch 77/100\n",
      "250/250 [==============================] - 0s 547us/step - loss: 0.3357 - accuracy: 0.8625\n",
      "Epoch 78/100\n",
      "250/250 [==============================] - 0s 523us/step - loss: 0.3357 - accuracy: 0.8619\n",
      "Epoch 79/100\n"
     ]
    },
    {
     "name": "stdout",
     "output_type": "stream",
     "text": [
      "250/250 [==============================] - 0s 521us/step - loss: 0.3357 - accuracy: 0.8622\n",
      "Epoch 80/100\n",
      "250/250 [==============================] - 0s 526us/step - loss: 0.3352 - accuracy: 0.8626\n",
      "Epoch 81/100\n",
      "250/250 [==============================] - 0s 493us/step - loss: 0.3353 - accuracy: 0.8635\n",
      "Epoch 82/100\n",
      "250/250 [==============================] - 0s 497us/step - loss: 0.3351 - accuracy: 0.8624\n",
      "Epoch 83/100\n",
      "250/250 [==============================] - 0s 539us/step - loss: 0.3355 - accuracy: 0.8639\n",
      "Epoch 84/100\n",
      "250/250 [==============================] - 0s 503us/step - loss: 0.3351 - accuracy: 0.8648\n",
      "Epoch 85/100\n",
      "250/250 [==============================] - 0s 506us/step - loss: 0.3352 - accuracy: 0.8626\n",
      "Epoch 86/100\n",
      "250/250 [==============================] - 0s 520us/step - loss: 0.3351 - accuracy: 0.8621\n",
      "Epoch 87/100\n",
      "250/250 [==============================] - 0s 511us/step - loss: 0.3346 - accuracy: 0.8639\n",
      "Epoch 88/100\n",
      "250/250 [==============================] - 0s 504us/step - loss: 0.3345 - accuracy: 0.8625\n",
      "Epoch 89/100\n",
      "250/250 [==============================] - 0s 563us/step - loss: 0.3349 - accuracy: 0.8639\n",
      "Epoch 90/100\n",
      "250/250 [==============================] - 0s 537us/step - loss: 0.3346 - accuracy: 0.8641\n",
      "Epoch 91/100\n",
      "250/250 [==============================] - 0s 493us/step - loss: 0.3345 - accuracy: 0.8636\n",
      "Epoch 92/100\n",
      "250/250 [==============================] - 0s 497us/step - loss: 0.3345 - accuracy: 0.8631\n",
      "Epoch 93/100\n",
      "250/250 [==============================] - 0s 499us/step - loss: 0.3342 - accuracy: 0.8643\n",
      "Epoch 94/100\n",
      "250/250 [==============================] - 0s 482us/step - loss: 0.3339 - accuracy: 0.8627\n",
      "Epoch 95/100\n",
      "250/250 [==============================] - 0s 493us/step - loss: 0.3341 - accuracy: 0.8636\n",
      "Epoch 96/100\n",
      "250/250 [==============================] - 0s 482us/step - loss: 0.3340 - accuracy: 0.8634\n",
      "Epoch 97/100\n",
      "250/250 [==============================] - 0s 503us/step - loss: 0.3340 - accuracy: 0.8635\n",
      "Epoch 98/100\n",
      "250/250 [==============================] - 0s 511us/step - loss: 0.3340 - accuracy: 0.8626\n",
      "Epoch 99/100\n",
      "250/250 [==============================] - 0s 505us/step - loss: 0.3336 - accuracy: 0.8636\n",
      "Epoch 100/100\n",
      "250/250 [==============================] - 0s 521us/step - loss: 0.3338 - accuracy: 0.8635\n"
     ]
    },
    {
     "data": {
      "text/plain": [
       "<tensorflow.python.keras.callbacks.History at 0x20c5ee61e20>"
      ]
     },
     "execution_count": 86,
     "metadata": {},
     "output_type": "execute_result"
    }
   ],
   "source": [
    "ann.fit(X_train,y_train , batch_size=32, epochs=100)"
   ]
  },
  {
   "cell_type": "code",
   "execution_count": 95,
   "id": "a8d2d0c4",
   "metadata": {},
   "outputs": [
    {
     "data": {
      "text/plain": [
       "'we have to predict if customer with data as follow will leave\\nthe bank or not.---------Geography :france ,Gender: male , Age:40 , Tenure3 years , Balance:$60000 , NumOfProducts: 2 , HasCrCard:yes , IsActiveMember: yes , \\nEstimatedSalary: $50000 , Exited :(if customer will exit the bank(1 for yes , 0 for no) ?)'"
      ]
     },
     "execution_count": 95,
     "metadata": {},
     "output_type": "execute_result"
    }
   ],
   "source": [
    "'''we have to predict if customer with data as follow will leave\n",
    "the bank or not.---------Geography :france ,Gender: male , Age:40 , Tenure3 years , Balance:$60000 , NumOfProducts: 2 , HasCrCard:yes , IsActiveMember: yes , \n",
    "EstimatedSalary: $50000 , Exited :(if customer will exit the bank(1 for yes , 0 for no) ?)'''\n",
    "#predict(should be 2 d arry) ,1.0.0 is encoded value of france,1 is for male"
   ]
  },
  {
   "cell_type": "code",
   "execution_count": 92,
   "id": "e316bb67",
   "metadata": {},
   "outputs": [
    {
     "data": {
      "text/plain": [
       "'check if some scaling was applied during training stage,yes we did applied so we will same for \\nsingle observation which we will use for prediction,we will use sc function for the same'"
      ]
     },
     "execution_count": 92,
     "metadata": {},
     "output_type": "execute_result"
    }
   ],
   "source": [
    "'''check if some scaling was applied during training stage,yes we did applied so we will same for \n",
    "single observation which we will use for prediction,we will use sc object for the same''' "
   ]
  },
  {
   "cell_type": "code",
   "execution_count": null,
   "id": "a876eeae",
   "metadata": {},
   "outputs": [],
   "source": [
    "#sigmoid function will return probablity ,so we can transform it as below"
   ]
  },
  {
   "cell_type": "code",
   "execution_count": 94,
   "id": "7c9a9855",
   "metadata": {},
   "outputs": [
    {
     "name": "stdout",
     "output_type": "stream",
     "text": [
      "customer will not leave bank ,CONGO!!\n"
     ]
    }
   ],
   "source": [
    "if (ann.predict(sc.transform([[1,0,0,600,1,40,3,60000,2,1,1,50000]]))>.5):\n",
    "    print(\"50% chance that customer will leave\")\n",
    "else :\n",
    "    print(\"customer will not leave bank ,CONGO!!\")"
   ]
  },
  {
   "cell_type": "code",
   "execution_count": 96,
   "id": "c684e0a0",
   "metadata": {},
   "outputs": [],
   "source": [
    "#predict the test set"
   ]
  },
  {
   "cell_type": "code",
   "execution_count": 98,
   "id": "7ff5d98d",
   "metadata": {},
   "outputs": [
    {
     "name": "stdout",
     "output_type": "stream",
     "text": [
      "[[0 0]\n",
      " [0 1]\n",
      " [0 0]\n",
      " ...\n",
      " [0 0]\n",
      " [0 0]\n",
      " [0 0]]\n"
     ]
    }
   ],
   "source": [
    "y_pred = ann.predict(X_test)\n",
    "y_pred=(y_pred>0.5)\n",
    "print(np.concatenate((y_pred.reshape(len(y_pred),1), y_test.reshape(len(y_test),1)),1))"
   ]
  },
  {
   "cell_type": "code",
   "execution_count": 100,
   "id": "7e200682",
   "metadata": {},
   "outputs": [
    {
     "data": {
      "text/plain": [
       "'generate confusion matrix and final accuracy of prediction if customer will \\nstays in the bank or will leave the bank'"
      ]
     },
     "execution_count": 100,
     "metadata": {},
     "output_type": "execute_result"
    }
   ],
   "source": [
    "'''generate confusion matrix and final accuracy of prediction if customer will \n",
    "stays in the bank or will leave the bank'''"
   ]
  },
  {
   "cell_type": "code",
   "execution_count": 101,
   "id": "14b1062a",
   "metadata": {},
   "outputs": [
    {
     "name": "stdout",
     "output_type": "stream",
     "text": [
      "[[1529   66]\n",
      " [ 199  206]]\n"
     ]
    },
    {
     "data": {
      "text/plain": [
       "0.8675"
      ]
     },
     "execution_count": 101,
     "metadata": {},
     "output_type": "execute_result"
    }
   ],
   "source": [
    "from sklearn.metrics import confusion_matrix, accuracy_score\n",
    "cm = confusion_matrix(y_test, y_pred)\n",
    "print(cm)\n",
    "accuracy_score(y_test, y_pred)"
   ]
  },
  {
   "cell_type": "code",
   "execution_count": null,
   "id": "97919538",
   "metadata": {},
   "outputs": [],
   "source": []
  }
 ],
 "metadata": {
  "kernelspec": {
   "display_name": "Python 3",
   "language": "python",
   "name": "python3"
  },
  "language_info": {
   "codemirror_mode": {
    "name": "ipython",
    "version": 3
   },
   "file_extension": ".py",
   "mimetype": "text/x-python",
   "name": "python",
   "nbconvert_exporter": "python",
   "pygments_lexer": "ipython3",
   "version": "3.8.8"
  }
 },
 "nbformat": 4,
 "nbformat_minor": 5
}
